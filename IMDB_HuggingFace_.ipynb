{
  "cells": [
    {
      "cell_type": "markdown",
      "metadata": {
        "id": "view-in-github",
        "colab_type": "text"
      },
      "source": [
        "<a href=\"https://colab.research.google.com/github/MarianiPedro/topicos_especiais_ANN/blob/main/IMDB_HuggingFace_.ipynb\" target=\"_parent\"><img src=\"https://colab.research.google.com/assets/colab-badge.svg\" alt=\"Open In Colab\"/></a>"
      ]
    },
    {
      "cell_type": "code",
      "execution_count": null,
      "metadata": {
        "colab": {
          "base_uri": "https://localhost:8080/"
        },
        "id": "yrk5RaXmWtl_",
        "outputId": "2c63caca-de9f-4262-e1e7-21b7023f32bf"
      },
      "outputs": [
        {
          "name": "stdout",
          "output_type": "stream",
          "text": [
            "Requirement already satisfied: transformers in /usr/local/lib/python3.11/dist-packages (4.53.1)\n",
            "Requirement already satisfied: filelock in /usr/local/lib/python3.11/dist-packages (from transformers) (3.18.0)\n",
            "Requirement already satisfied: huggingface-hub<1.0,>=0.30.0 in /usr/local/lib/python3.11/dist-packages (from transformers) (0.33.2)\n",
            "Requirement already satisfied: numpy>=1.17 in /usr/local/lib/python3.11/dist-packages (from transformers) (2.0.2)\n",
            "Requirement already satisfied: packaging>=20.0 in /usr/local/lib/python3.11/dist-packages (from transformers) (24.2)\n",
            "Requirement already satisfied: pyyaml>=5.1 in /usr/local/lib/python3.11/dist-packages (from transformers) (6.0.2)\n",
            "Requirement already satisfied: regex!=2019.12.17 in /usr/local/lib/python3.11/dist-packages (from transformers) (2024.11.6)\n",
            "Requirement already satisfied: requests in /usr/local/lib/python3.11/dist-packages (from transformers) (2.32.3)\n",
            "Requirement already satisfied: tokenizers<0.22,>=0.21 in /usr/local/lib/python3.11/dist-packages (from transformers) (0.21.2)\n",
            "Requirement already satisfied: safetensors>=0.4.3 in /usr/local/lib/python3.11/dist-packages (from transformers) (0.5.3)\n",
            "Requirement already satisfied: tqdm>=4.27 in /usr/local/lib/python3.11/dist-packages (from transformers) (4.67.1)\n",
            "Requirement already satisfied: fsspec>=2023.5.0 in /usr/local/lib/python3.11/dist-packages (from huggingface-hub<1.0,>=0.30.0->transformers) (2025.3.2)\n",
            "Requirement already satisfied: typing-extensions>=3.7.4.3 in /usr/local/lib/python3.11/dist-packages (from huggingface-hub<1.0,>=0.30.0->transformers) (4.14.1)\n",
            "Requirement already satisfied: hf-xet<2.0.0,>=1.1.2 in /usr/local/lib/python3.11/dist-packages (from huggingface-hub<1.0,>=0.30.0->transformers) (1.1.5)\n",
            "Requirement already satisfied: charset-normalizer<4,>=2 in /usr/local/lib/python3.11/dist-packages (from requests->transformers) (3.4.2)\n",
            "Requirement already satisfied: idna<4,>=2.5 in /usr/local/lib/python3.11/dist-packages (from requests->transformers) (3.10)\n",
            "Requirement already satisfied: urllib3<3,>=1.21.1 in /usr/local/lib/python3.11/dist-packages (from requests->transformers) (2.4.0)\n",
            "Requirement already satisfied: certifi>=2017.4.17 in /usr/local/lib/python3.11/dist-packages (from requests->transformers) (2025.7.9)\n"
          ]
        }
      ],
      "source": [
        "!pip install transformers"
      ]
    },
    {
      "cell_type": "code",
      "execution_count": null,
      "metadata": {
        "colab": {
          "base_uri": "https://localhost:8080/",
          "height": 287,
          "referenced_widgets": [
            "0bccbca9c0b34c38b9c2a595e430c71e",
            "2687c9f9385242edb5ec337a73a86c8c",
            "98361e79d6ad4b96b78d36de93af1668",
            "24e21e07de704c21819fef5db0f563dd",
            "4dd17048483b4d4ea8ad0c1eb0b97bf9",
            "aa3f892458584433af44bff24c02e436",
            "389591582d1e4cf98ebd32d6368b9ead",
            "6c9b702671f944039c97f8642889346c",
            "05a96403c0ca4b518fde921cdc0a3135",
            "63258ea5ef3640e192cc6ebe42bfc359",
            "9603bf7a0743426fbde5f6f35ff12aa4",
            "628c6f7b03a443b0a7fe5344195867a9",
            "282cc5f302bc4c48a636aecab4eeb5b1",
            "ec89ed9e7e234793ae61edd2f3686acc",
            "e977cfbfb70c4f6e80ca7aa15f7269a0",
            "62edd871464942e89130eec468afe79c",
            "9848cabb277e4f9b800675b56755aac0",
            "8184b02cb5f34770afce26b4dbadc209",
            "2bec397ed6654c2a8f788ec0a6ee8750",
            "43edb6f37e464132840f5181e3eb0df3",
            "a732a08ccac64421a7e3c4f2110c2264",
            "c550e800fb554653b0931377e3712587",
            "95069d72e1704ce88127bc94cf5d6acb",
            "4c7bab5f557a473db4b82c5866a3b40a",
            "7ee0767d2b044fd2b4c14923c1bb6cad",
            "13f70f313e244fa8ab8d39eafc466e17",
            "d95b11dd448e49aeafbfe846bcd509b7",
            "869c405b44d7462dac1a3a9e9096914e",
            "7dd057bb32f744f895edbcbe4a99e9e4",
            "81f72ceff00b45bd85905923b6b14384",
            "88c53afbb9594662a9f775c045b15c4d",
            "49d69e2a535f498d8414418fb1136d1d",
            "f7e5016b0a6b4a75b4dfd0404b513bcf",
            "64e4c516f8894fe9a5c712e45ec85261",
            "218c17e39a0f4d0180d6cf339d2c3b71",
            "dce0f2daa37340c6acd9382b6bfbddda",
            "9b3c983708794921a6be578eab60a080",
            "27ada9195c3a44ef8e19d082da1ad2b7",
            "f211db5c912b4298bcb8323113d9b3dc",
            "d6a69365f0e34987819b7c591dc8a105",
            "32f47e7337ab4f45b3f4044812f7ab21",
            "6124727f7db142898b783b58e48e3fba",
            "33ffff795dae43fe8215af12acd64412",
            "e913dac4f004457e85a659023966180b"
          ]
        },
        "id": "3ft0ih6-WzWW",
        "outputId": "0a35499b-0368-45c4-fc91-675e3d5b45d9"
      },
      "outputs": [
        {
          "name": "stderr",
          "output_type": "stream",
          "text": [
            "/usr/local/lib/python3.11/dist-packages/huggingface_hub/utils/_auth.py:94: UserWarning: \n",
            "The secret `HF_TOKEN` does not exist in your Colab secrets.\n",
            "To authenticate with the Hugging Face Hub, create a token in your settings tab (https://huggingface.co/settings/tokens), set it as secret in your Google Colab and restart your session.\n",
            "You will be able to reuse this secret in all of your notebooks.\n",
            "Please note that authentication is recommended but still optional to access public models or datasets.\n",
            "  warnings.warn(\n"
          ]
        },
        {
          "data": {
            "application/vnd.jupyter.widget-view+json": {
              "model_id": "0bccbca9c0b34c38b9c2a595e430c71e",
              "version_major": 2,
              "version_minor": 0
            },
            "text/plain": [
              "config.json:   0%|          | 0.00/629 [00:00<?, ?B/s]"
            ]
          },
          "metadata": {},
          "output_type": "display_data"
        },
        {
          "data": {
            "application/vnd.jupyter.widget-view+json": {
              "model_id": "628c6f7b03a443b0a7fe5344195867a9",
              "version_major": 2,
              "version_minor": 0
            },
            "text/plain": [
              "model.safetensors:   0%|          | 0.00/268M [00:00<?, ?B/s]"
            ]
          },
          "metadata": {},
          "output_type": "display_data"
        },
        {
          "data": {
            "application/vnd.jupyter.widget-view+json": {
              "model_id": "95069d72e1704ce88127bc94cf5d6acb",
              "version_major": 2,
              "version_minor": 0
            },
            "text/plain": [
              "tokenizer_config.json:   0%|          | 0.00/48.0 [00:00<?, ?B/s]"
            ]
          },
          "metadata": {},
          "output_type": "display_data"
        },
        {
          "data": {
            "application/vnd.jupyter.widget-view+json": {
              "model_id": "64e4c516f8894fe9a5c712e45ec85261",
              "version_major": 2,
              "version_minor": 0
            },
            "text/plain": [
              "vocab.txt:   0%|          | 0.00/232k [00:00<?, ?B/s]"
            ]
          },
          "metadata": {},
          "output_type": "display_data"
        },
        {
          "name": "stderr",
          "output_type": "stream",
          "text": [
            "Device set to use cpu\n"
          ]
        }
      ],
      "source": [
        "from transformers import pipeline\n",
        "sentiment = pipeline(\"sentiment-analysis\", model=\"distilbert-base-uncased-finetuned-sst-2-english\", device=0)"
      ]
    },
    {
      "cell_type": "code",
      "execution_count": null,
      "metadata": {
        "id": "Ybnc49fhWw_G"
      },
      "outputs": [],
      "source": [
        "import urllib.request, tarfile, os\n",
        "url = \"https://ai.stanford.edu/~amaas/data/sentiment/aclImdb_v1.tar.gz\"\n",
        "if not os.path.exists(\"aclImdb_v1.tar.gz\"):\n",
        "    urllib.request.urlretrieve(url, \"aclImdb_v1.tar.gz\")\n",
        "if not os.path.exists(\"aclImdb\"):\n",
        "    tar = tarfile.open(\"aclImdb_v1.tar.gz\", \"r:gz\"); tar.extractall(); tar.close()"
      ]
    },
    {
      "cell_type": "code",
      "execution_count": null,
      "metadata": {
        "id": "sLQD-BSrW6-W"
      },
      "outputs": [],
      "source": [
        "def load_data(split=\"test\"):\n",
        "    texts, labels = [], []\n",
        "    for label in [\"pos\",\"neg\"]:\n",
        "        folder = f\"aclImdb/{split}/{label}\"\n",
        "        for fname in os.listdir(folder):\n",
        "            with open(os.path.join(folder,fname), encoding=\"utf-8\") as f:\n",
        "                texts.append(f.read())\n",
        "                labels.append(1 if label==\"pos\" else 0)\n",
        "    return texts, labels\n",
        "\n",
        "X_test, y_test = load_data(\"test\")\n"
      ]
    },
    {
      "cell_type": "code",
      "execution_count": null,
      "metadata": {
        "colab": {
          "base_uri": "https://localhost:8080/"
        },
        "id": "VTN5lkLwV08I",
        "outputId": "4eb12da8-2664-41cf-df7d-d0802514a60a"
      },
      "outputs": [
        {
          "name": "stderr",
          "output_type": "stream",
          "text": [
            "Device set to use cpu\n"
          ]
        },
        {
          "name": "stdout",
          "output_type": "stream",
          "text": [
            "Accuracy: 0.874\n",
            "Precision: 1.0\n",
            "Recall: 0.874\n"
          ]
        }
      ],
      "source": [
        "from transformers import pipeline\n",
        "sentiment = pipeline(\"sentiment-analysis\",\n",
        "                     model=\"distilbert-base-uncased-finetuned-sst-2-english\",\n",
        "                     device=0)\n",
        "\n",
        "outputs = sentiment(X_test[:1000], truncation=True)\n",
        "\n",
        "y_pred = [1 if out[\"label\"]==\"POSITIVE\" else 0 for out in outputs]\n",
        "\n",
        "# Avalia\n",
        "from sklearn.metrics import accuracy_score, precision_score, recall_score\n",
        "print(\"Accuracy:\", accuracy_score(y_test[:1000], y_pred))\n",
        "print(\"Precision:\", precision_score(y_test[:1000], y_pred))\n",
        "print(\"Recall:\", recall_score(y_test[:1000], y_pred))"
      ]
    },
    {
      "cell_type": "code",
      "execution_count": null,
      "metadata": {
        "colab": {
          "base_uri": "https://localhost:8080/"
        },
        "id": "dTj-IW87d2nF",
        "outputId": "14fa01d8-aa85-4549-a53f-c9373bb50d06"
      },
      "outputs": [
        {
          "name": "stdout",
          "output_type": "stream",
          "text": [
            "Texto: In 1929, director Walt Disney and animator Ub Iwerks changed the face of animation with the release of the very first installment of their \"Silly Symphonies\" series, \"The Skeleton Dance\". Iwerks and Disney had been collaborating together since the early 20s, in Disney's \"Laugh-O-Gram\" cartoon series; however, their friendship suffered a tremendous blow when Iwerks accepted an offer by a competitor to leave Disney and start his own animation studio. That was the birth of Celebrity Productions, wh\n",
            "Real: 1, Predito: 1, Confiança: 0.988\n",
            "--------------------------------------------------------------------------------\n",
            "Texto: A really realistic, sensible movie by Ramgopal Verma . No stupidity like songs as in other Hindi movies. Class acting by Nana Patekar. <br /><br />Much similarities to real 'encounters'.\n",
            "Real: 1, Predito: 1, Confiança: 0.998\n",
            "--------------------------------------------------------------------------------\n",
            "Texto: Pistol-packing Pam Grier takes names and kicks butt as the heroine in \"Asylum of Satan\" director William Girdler's entertaining blaxploitation actioneer \"Sheba Baby,\" co-starring D'Urville Martin and Austin Stoker. \"Sheba Baby\" is one of several tough chick flicks that Grier appeared in during the 1970s, including \"Coffy,\" \"Foxy Brown,\" and \"Friday Foster.\" The short-lived Girdler co-wrote this thoroughly routine private eye potboiler with producer David Shelton in one night and it features a he\n",
            "Real: 1, Predito: 0, Confiança: 0.897\n",
            "--------------------------------------------------------------------------------\n",
            "Texto: I have seen this film at least 100 times and I am still excited by it, the acting is perfect and the romance between Joe and Jean keeps me on the edge of my seat, plus I still think Bryan Brown is the tops. Brilliant Film.\n",
            "Real: 1, Predito: 1, Confiança: 1.000\n",
            "--------------------------------------------------------------------------------\n",
            "Texto: Background info - The movies Octopussy & Never Say Never Again were both made the same year, 1983, and so naturally people compare them. Moore vs. Connery. Bond vs. Bond.<br /><br />I've heard many people claiming that the \"official movie\" Octopussy is far superior. Well, I just watched Octopussy. Bond is riding an airplane at 100 miles an hour (impossible---the wind would blow him off), using his feet to force the plane to ground, and then jumping off at some 60 miles an hour (again impossible-\n",
            "Real: 1, Predito: 1, Confiança: 0.928\n",
            "--------------------------------------------------------------------------------\n",
            "Texto: In the 1980s in wrestling the world was simple. Hulk Hogan would take on Roddy Piper, or Bobby Heenan's cronies or Ted DiBiase and come out victorious more often than not. Occasionally he would get an ally like Randy Savage in 1988, but mostly it was all about Hulk Hogan vs Bobby Heenan, and that's the way it should be.<br /><br />But on this night that was about to change, a new champion, a man who the WWE thought would be their man for the 90s was crowned. It didn't work out. But the WWE was r\n",
            "Real: 1, Predito: 1, Confiança: 0.538\n",
            "--------------------------------------------------------------------------------\n",
            "Texto: It's said that this film is or was banned in the US since it was released. Since there is no information on IMDb I must rely on my other sources and believe it. If this is really true, the movie is even more hurtful and frightening and is it is anyway.<br /><br />The movie is a so-called mockumentary, although I think the topic is too serious call it like that. It creates a scenario where America is like a military state and all revolutionary objects are arrested immediately without proof. After\n",
            "Real: 1, Predito: 0, Confiança: 0.996\n",
            "--------------------------------------------------------------------------------\n",
            "Texto: This is a beautiful, yet simple movie about one man, driven to find an answer, an answer he doesn't necessarily need but has structured his whole life around. It is heartrending, it is hilarious, it is glorious, it is tormenting, it is delicate and dynamic, I say it's genius.<br /><br />I have read Jonathan Safran Foer's book Everything is Illuminated (mainly because I heard Elijah Wood was starring in the movie adaptation), and I was just enraptured by the characters. I laughed out loud more th\n",
            "Real: 1, Predito: 1, Confiança: 0.993\n",
            "--------------------------------------------------------------------------------\n",
            "Texto: ý thýnk uzak ýs the one of the best films of all times and everybody must realize this movie.I m a Turkish boy and a big cinema fun. and in this days our cinema industry is highing up.And UZAK is the best Turkish film of last ten years.and maybe one of the best films of all times.director nuri bilge ceylan is quite amazing.telling story,characters,atmosphere is wonderful.he is a minimalist director and tells about routine event family,dreams,expects,life.tells about you ,tells about me,tells abo\n",
            "Real: 1, Predito: 1, Confiança: 1.000\n",
            "--------------------------------------------------------------------------------\n",
            "Texto: Four stories about the drug trade in Europe become intertwined over the course of this 6 part miniseries. In Germany a businessman is arrested on drug smuggling charges, and his wife attempts to save her family by continuing her husband's illegal trade. Meanwhile the British Home Secretary travels to Pakistan to negotiate an aid package that he hopes will stop the drug flow from that country. Even as he does this however his own daughter succumbs to heroin addiction, tearing their family apart. \n",
            "Real: 1, Predito: 1, Confiança: 0.995\n",
            "--------------------------------------------------------------------------------\n",
            "Texto: In Russia, the ordinary teenager Vera (Natalya Negoda) lives a leisured life with her drunkard father and her simpleton mother, without working and waiting for the calling for a technical course of telephone operator. Her brother Victor (Aleksandr Negreba) lives in Moscow with the family of his own and occasionally visits his dysfunctional family and Vera, being always motive for arguing. When Vera meets the student of university Sergei (Andrei Sokolov), they fall in love for each other and deci\n",
            "Real: 1, Predito: 1, Confiança: 0.999\n",
            "--------------------------------------------------------------------------------\n",
            "Texto: What can I say about this movie except that it is great fun!<br /><br />John Cusack plays Hoops McCann a recent High School graduate who has two choices, learn to take up the family business of street sweeping or spend the summer at Nantucket with his pal George Calamari (played hilariously by Joel Murray) and his zany friends.<br /><br />When I say zany, believe me, it can't get much zanier than the Stork brothers, Egg (Bobcat Goldthwait) and Clay (Tom Villard) and Ack Ack Raymond (Curtis Armst\n",
            "Real: 1, Predito: 1, Confiança: 1.000\n",
            "--------------------------------------------------------------------------------\n",
            "Texto: Mel Brooks is a great writer,director and actor, but once in a while even he can have a klinker. The beginning of this starts out almost basically just meeting one character after another.You have Cary Elwes who's charming and talented, but he can't do comedy. His expressions into the camera show that even he can't believe the inanities in the script. Richard Lewis looks bored and distracted throughout without much to do and Amy Yasbeck is stuck in high-school acting mode. Dave Chapelle shows gr\n",
            "Real: 1, Predito: 1, Confiança: 0.962\n",
            "--------------------------------------------------------------------------------\n",
            "Texto: I loved this movie, I saw it when I was about 8 years old and almost seven years later, this evening I got to see it again. I really thought it had an interesting idea, they only thing that upset me was the ending which I felt was a cop out. 'Round here it's hard to find this movie and I was lucky enough to have seen it on BRAVO. I also expected to see more Drew Barrymore in here too!\n",
            "Real: 1, Predito: 1, Confiança: 0.727\n",
            "--------------------------------------------------------------------------------\n",
            "Texto: Don't hate Heather Graham because she's beautiful, hate her because she's fun to watch in this movie. Like the hip clothing and funky surroundings, the actors in this flick work well together. Casey Affleck is hysterical and Heather Graham literally lights up the screen. The minor characters - Goran Visnjic {sigh} and Patricia Velazquez are as TALENTED as they are gorgeous. Congratulations Miramax & Director Lisa Krueger!\n",
            "Real: 1, Predito: 1, Confiança: 1.000\n",
            "--------------------------------------------------------------------------------\n",
            "Texto: New Yorkers contemporaneous with this film will recall how reflective of its time it is and how well cast and crew captured America, New York City of that era.<br /><br />Norman Wexler's script delineates the different worlds the various sub groupings live in and Avildsen's direction brings out phenomenal performances all around. Peter Boyle's prodigious talent is on display as never before nor since. Clearly it is the best character portrayal the always likable Dennis Patrick ever accomplished.\n",
            "Real: 1, Predito: 1, Confiança: 1.000\n",
            "--------------------------------------------------------------------------------\n",
            "Texto: Yeah, I guess this movie is kinda dull compared to some of Pam Grier's other films. The plot is overly familiar, the dialog stilted, and some of the acting isn't too good. But it's worth seeing for the lengthy stretch near the end of the film, where we see Ms Grier in a sexy blue wetsuit, with the zipper half unzipped. Yeah, it seems like a frivolous point when discussing an actress of Pam Grier's talent, but she also happens to be an extremely gorgeous woman, and back in the day, she had a body\n",
            "Real: 1, Predito: 0, Confiança: 0.901\n",
            "--------------------------------------------------------------------------------\n",
            "Texto: I'm not going to tell anyone what happens in the end, but it did not fit with the movie. The rest of Imaginary Heroes, though, portrayed a realistic family going through realistic issues, such as death, drugs, relationships, and high school. I could have sworn that they were my own family, no joke.<br /><br />Emile Hirsch was completely believable as a teen struggling with his brother's suicide, and Sigourney Weaver plays a mother trying to keep the remains of her (slightly) dysfunctional family\n",
            "Real: 1, Predito: 0, Confiança: 0.905\n",
            "--------------------------------------------------------------------------------\n",
            "Texto: Created by Dennis Spooner, 'Department S' was a glossy thriller show about an offshoot of Interpol, based in Geneva, created to solve baffling mysteries the police could not handle. If a plane landed at Heathrow with no-one aboard, if a man was found wandering around London in a space-suit, if the passenger of a Rolls Royce suddenly transmogrified into a skeleton, if a train pulling into a tube station turned out to contain dead commuters, you called on 'Department S' to sort things out.<br /><b\n",
            "Real: 1, Predito: 1, Confiança: 0.990\n",
            "--------------------------------------------------------------------------------\n",
            "Texto: This searing drama based on a true incident concerns several ambitious African nationals who decide to temporarily leave their families by stowing away on an outbound ship. They think that if they successfully make the voyage they can better their lives by making enough money in New York to send for their families. Unfortunately for them, the ship that they select is a rundown Russian freighter which has already been heavily fined at a previous port for harboring stowaways. The captain and the f\n",
            "Real: 1, Predito: 1, Confiança: 0.990\n",
            "--------------------------------------------------------------------------------\n"
          ]
        }
      ],
      "source": [
        "for i in range(20):\n",
        "    print(f\"Texto: {X_test[i][:500]}\")\n",
        "    print(f\"Real: {y_test[i]}, Predito: {y_pred[i]}, Confiança: {outputs[i]['score']:.3f}\")\n",
        "    print(\"-\"*80)"
      ]
    }
  ],
  "metadata": {
    "colab": {
      "provenance": [],
      "authorship_tag": "ABX9TyOEYvOLD3ARub5gWLlr35Ju",
      "include_colab_link": true
    },
    "kernelspec": {
      "display_name": "Python 3",
      "name": "python3"
    },
    "language_info": {
      "name": "python"
    }
  },
  "nbformat": 4,
  "nbformat_minor": 0
}