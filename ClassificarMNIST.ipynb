{
  "nbformat": 4,
  "nbformat_minor": 0,
  "metadata": {
    "colab": {
      "provenance": [],
      "authorship_tag": "ABX9TyO5MllubLs2ClpWkkuK9FdZ",
      "include_colab_link": true
    },
    "kernelspec": {
      "name": "python3",
      "display_name": "Python 3"
    },
    "language_info": {
      "name": "python"
    }
  },
  "cells": [
    {
      "cell_type": "markdown",
      "metadata": {
        "id": "view-in-github",
        "colab_type": "text"
      },
      "source": [
        "<a href=\"https://colab.research.google.com/github/MarianiPedro/topicos_especiais_ANN/blob/main/ClassificarMNIST.ipynb\" target=\"_parent\"><img src=\"https://colab.research.google.com/assets/colab-badge.svg\" alt=\"Open In Colab\"/></a>"
      ]
    },
    {
      "cell_type": "code",
      "source": [
        "import urllib.request, gzip, struct, numpy as np\n",
        "import os\n",
        "from google.colab import drive\n",
        "\n",
        "FOLDERNAME = 'Colab Notebooks/ANN_2025_1/'\n",
        "drive.mount(\"/content/drive\", force_remount=True)\n",
        "cache_dir = f\"/content/drive/My Drive/{FOLDERNAME}\"\n",
        "os.makedirs(cache_dir, exist_ok=True)\n",
        "\n",
        "def download_and_parse_mnist(cache_dir=cache_dir):\n",
        "    base = \"https://raw.githubusercontent.com/fgnt/mnist/master/\"  #http://yann.lecun.com/exdb/mnist - apresentando erro\n",
        "    files = {\n",
        "        \"train_images\":\"train-images-idx3-ubyte.gz\",\n",
        "        \"train_labels\":\"train-labels-idx1-ubyte.gz\",\n",
        "        \"test_images\":\"t10k-images-idx3-ubyte.gz\",\n",
        "        \"test_labels\":\"t10k-labels-idx1-ubyte.gz\"\n",
        "    }\n",
        "    paths = {}\n",
        "\n",
        "    for key, fname in files.items():\n",
        "        local_path = os.path.join(cache_dir, fname)\n",
        "        if not os.path.exists(local_path):\n",
        "            print(f\"Baixando {fname} ...\")\n",
        "            urllib.request.urlretrieve(base + fname, local_path)\n",
        "        else:\n",
        "            print(f\"Usando cache de {fname}\")\n",
        "        paths[key] = local_path\n",
        "\n",
        "    def load_images(fname):\n",
        "        with gzip.open(fname, 'rb') as f:\n",
        "            magic, n, rows, cols = struct.unpack(\">IIII\", f.read(16))\n",
        "            return np.frombuffer(f.read(), dtype=np.uint8).reshape(n, rows, cols)\n",
        "\n",
        "    def load_labels(fname):\n",
        "        with gzip.open(fname, 'rb') as f:\n",
        "            magic, n = struct.unpack(\">II\", f.read(8))\n",
        "            return np.frombuffer(f.read(), dtype=np.uint8)\n",
        "    return load_images(paths[\"train_images\"]), load_labels(paths[\"train_labels\"]), \\\n",
        "           load_images(paths[\"test_images\"]), load_labels(paths[\"test_labels\"])\n",
        "\n",
        "X_train, y_train, X_test, y_test = download_and_parse_mnist()\n",
        "print(X_train.shape, y_train.shape, X_test.shape, y_test.shape)\n"
      ],
      "metadata": {
        "colab": {
          "base_uri": "https://localhost:8080/"
        },
        "id": "Z8BzQmR2JeWo",
        "outputId": "1c1df158-9f43-4108-ce5f-8719c151872b"
      },
      "execution_count": 11,
      "outputs": [
        {
          "output_type": "stream",
          "name": "stdout",
          "text": [
            "Mounted at /content/drive\n",
            "Baixando train-images-idx3-ubyte.gz ...\n",
            "Baixando train-labels-idx1-ubyte.gz ...\n",
            "Baixando t10k-images-idx3-ubyte.gz ...\n",
            "Baixando t10k-labels-idx1-ubyte.gz ...\n",
            "(60000, 28, 28) (60000,) (10000, 28, 28) (10000,)\n"
          ]
        }
      ]
    },
    {
      "cell_type": "code",
      "execution_count": 12,
      "metadata": {
        "colab": {
          "base_uri": "https://localhost:8080/"
        },
        "id": "fmoW2rsCBGBS",
        "outputId": "1f6faa60-3a6c-4cf0-c3ea-413c017cad9f"
      },
      "outputs": [
        {
          "output_type": "stream",
          "name": "stdout",
          "text": [
            "Usando: cpu\n"
          ]
        }
      ],
      "source": [
        "import torch, torch.nn as nn, torch.nn.functional as F, torch.optim as optim\n",
        "from torch.utils.data import TensorDataset, DataLoader\n",
        "from sklearn.base import BaseEstimator, ClassifierMixin, TransformerMixin\n",
        "from sklearn.pipeline import Pipeline\n",
        "from sklearn.metrics import accuracy_score\n",
        "\n",
        "device = torch.device(\"cuda\" if torch.cuda.is_available() else \"cpu\")\n",
        "print(\"Usando:\", device)"
      ]
    },
    {
      "cell_type": "code",
      "source": [
        "class Normalize(TransformerMixin, BaseEstimator):\n",
        "    def fit(self, X, y=None): return self\n",
        "    def transform(self, X): return X / 255.0\n",
        "\n",
        "class AddChannel(TransformerMixin, BaseEstimator):\n",
        "    def fit(self, X, y=None): return self\n",
        "    def transform(self, X): return X.reshape(-1,1,28,28).astype(np.float32)"
      ],
      "metadata": {
        "id": "08tGrrLaBr4A"
      },
      "execution_count": 13,
      "outputs": []
    },
    {
      "cell_type": "code",
      "source": [
        "class DeepCNN(nn.Module):\n",
        "    def __init__(self, input_shape, num_classes):\n",
        "        super().__init__()\n",
        "        self.conv1 = nn.Conv2d(input_shape[0], 32, 3, padding=1)\n",
        "        self.pool = nn.MaxPool2d(2)\n",
        "        self.conv2 = nn.Conv2d(32, 64, 3, padding=1)\n",
        "        self.conv3 = nn.Conv2d(64, 128, 3, padding=1)\n",
        "        self.flatten = nn.Flatten()\n",
        "\n",
        "        # Calculate the size of the flattened layer dynamically\n",
        "        # Create a dummy tensor to pass through the layers\n",
        "        dummy_input = torch.zeros(1, *input_shape)\n",
        "        x = self.pool(F.relu(self.conv1(dummy_input)))\n",
        "        x = self.pool(F.relu(self.conv2(x)))\n",
        "        x = F.relu(self.conv3(x))\n",
        "        flattened_size = self.flatten(x).size(1)\n",
        "\n",
        "        self.fc = nn.Linear(flattened_size, num_classes)\n",
        "\n",
        "    def forward(self, x):\n",
        "        x = self.pool(F.relu(self.conv1(x)))\n",
        "        x = self.pool(F.relu(self.conv2(x)))\n",
        "        x = F.relu(self.conv3(x))\n",
        "        x = self.flatten(x)\n",
        "        return self.fc(x)"
      ],
      "metadata": {
        "id": "thUtrFRxBirI"
      },
      "execution_count": 17,
      "outputs": []
    },
    {
      "cell_type": "code",
      "source": [
        "class TorchCNNClassifier(BaseEstimator, ClassifierMixin):\n",
        "    def __init__(self, epochs=5, batch_size=128):\n",
        "        self.epochs = epochs\n",
        "        self.batch_size = batch_size\n",
        "\n",
        "    def fit(self, X, y):\n",
        "        X = torch.from_numpy(X).float()\n",
        "        y = torch.from_numpy(y).long()\n",
        "        self.classes_, y_ids = torch.unique(y, return_inverse=True)\n",
        "        ds = TensorDataset(X, y_ids)\n",
        "        loader = DataLoader(ds, batch_size=self.batch_size, shuffle=True)\n",
        "        self.model = DeepCNN(X.shape[1:], len(self.classes_)).to(device)\n",
        "        opt = optim.Adam(self.model.parameters(), lr=1e-3)\n",
        "        loss_fn = nn.CrossEntropyLoss()\n",
        "        for ep in range(self.epochs):\n",
        "            for xb, yb in loader:\n",
        "                xb, yb = xb.to(device), yb.to(device)\n",
        "                opt.zero_grad()\n",
        "                logits = self.model(xb)\n",
        "                loss = loss_fn(logits, yb)\n",
        "                loss.backward()\n",
        "                opt.step()\n",
        "            print(f\"Epoca {ep+1}/{self.epochs}, Loss final: {loss.item():.4f}\")\n",
        "        return self\n",
        "\n",
        "    def predict(self, X):\n",
        "        X = torch.from_numpy(X).float().to(device)\n",
        "        with torch.no_grad():\n",
        "            logits = self.model(X)\n",
        "            ids = logits.argmax(dim=1).cpu()\n",
        "        return self.classes_[ids.numpy()]"
      ],
      "metadata": {
        "id": "u3bjFu8YBfOY"
      },
      "execution_count": 15,
      "outputs": []
    },
    {
      "cell_type": "code",
      "source": [
        "pipeline = Pipeline([\n",
        "    (\"norm\", Normalize()),\n",
        "    (\"channel\", AddChannel()),\n",
        "    (\"cnn\", TorchCNNClassifier(epochs=5))\n",
        "])\n",
        "\n",
        "pipeline.fit(X_train, y_train)\n",
        "ypred = pipeline.predict(X_test)\n",
        "print(\"Acurácia:\", accuracy_score(y_test, ypred))"
      ],
      "metadata": {
        "colab": {
          "base_uri": "https://localhost:8080/"
        },
        "id": "WNL1Vy7rBdDY",
        "outputId": "a2ec5ee0-faf1-4fcd-d747-a8588c13132a"
      },
      "execution_count": 18,
      "outputs": [
        {
          "output_type": "stream",
          "name": "stdout",
          "text": [
            "Epoca 1/5, Loss final: 0.0987\n",
            "Epoca 2/5, Loss final: 0.0190\n",
            "Epoca 3/5, Loss final: 0.0941\n",
            "Epoca 4/5, Loss final: 0.0269\n",
            "Epoca 5/5, Loss final: 0.0075\n",
            "Acurácia: 0.989\n"
          ]
        }
      ]
    }
  ]
}